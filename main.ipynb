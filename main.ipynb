{
 "cells": [
  {
   "cell_type": "code",
   "execution_count": null,
   "metadata": {},
   "outputs": [],
   "source": [
    "import os\n",
    "\n",
    "directory = \"./assets\"\n",
    "\n",
    "if not directory:\n",
    "    directory = input(\"Input raw dataset directory:\")\n",
    "\n",
    "files = [f for f in os.listdir(directory) if os.path.isfile(os.path.join(directory, f))]\n",
    "\n",
    "count = 1\n",
    "if files:\n",
    "    curr = files[0].split(\"_\")[0]\n",
    "else:\n",
    "    print(\"No files found in the directory.\")\n",
    "    exit()\n",
    "\n",
    "for file in files:\n",
    "    file_split = file.split(\"_\")\n",
    "    if file_split[0] != curr:\n",
    "        curr = file_split[0]\n",
    "        count += 1\n",
    "    \n",
    "    new_file_name = \"_\".join(file_split[1:])\n",
    "    new_file_name = str(count).zfill(3) + \"_\" + new_file_name\n",
    "    \n",
    "    old_path = os.path.join(directory, file)\n",
    "    new_path = os.path.join(directory, new_file_name)\n",
    "    \n",
    "    os.rename(old_path, new_path)\n",
    "    print(f\"Successfully changed file name from ({file}) to ({new_file_name})\")"
   ]
  },
  {
   "cell_type": "code",
   "execution_count": null,
   "metadata": {},
   "outputs": [],
   "source": [
    "import cv2\n",
    "import numpy as np\n",
    "import os\n",
    "from tqdm import tqdm\n",
    "\n",
    "def skeletonize(img):\n",
    "    \"\"\"Alternative skeletonization implementation without ximgproc\"\"\"\n",
    "    skel = np.zeros(img.shape, np.uint8)\n",
    "    element = cv2.getStructuringElement(cv2.MORPH_CROSS, (3,3))\n",
    "    while True:\n",
    "        open_img = cv2.morphologyEx(img, cv2.MORPH_OPEN, element)\n",
    "        temp = cv2.subtract(img, open_img)\n",
    "        eroded = cv2.erode(img, element)\n",
    "        skel = cv2.bitwise_or(skel, temp)\n",
    "        img = eroded.copy()\n",
    "        if cv2.countNonZero(img) == 0:\n",
    "            break\n",
    "    return skel\n",
    "\n",
    "def process_fingerprint(image_path, output_path, target_size=None, upscale_factor=1.0):\n",
    "    # Read image\n",
    "    image = cv2.imread(image_path, cv2.IMREAD_GRAYSCALE)\n",
    "    if image is None:\n",
    "        raise ValueError(f\"Could not read image: {image_path}\")\n",
    "    \n",
    "    # Resize if needed\n",
    "    if target_size:\n",
    "        image = cv2.resize(image, target_size, interpolation=cv2.INTER_LANCZOS4)\n",
    "    elif upscale_factor != 1.0:\n",
    "        h, w = image.shape\n",
    "        image = cv2.resize(image, (int(w*upscale_factor), int(h*upscale_factor)), \n",
    "                         interpolation=cv2.INTER_LANCZOS4)\n",
    "    \n",
    "    # 1. Contrast enhancement\n",
    "    clahe = cv2.createCLAHE(clipLimit=2.0, tileGridSize=(8,8))\n",
    "    enhanced = clahe.apply(image)\n",
    "    \n",
    "    # 2. Noise reduction\n",
    "    denoised = cv2.bilateralFilter(enhanced, 9, 75, 75)\n",
    "    \n",
    "    # 3. Adaptive thresholding\n",
    "    thresh = cv2.adaptiveThreshold(denoised, 255, cv2.ADAPTIVE_THRESH_GAUSSIAN_C,\n",
    "                                cv2.THRESH_BINARY_INV, 21, 7)\n",
    "    \n",
    "    # 4. Morphological operations\n",
    "    kernel = np.ones((3,3), np.uint8)\n",
    "    morph = cv2.morphologyEx(thresh, cv2.MORPH_CLOSE, kernel, iterations=1)\n",
    "    morph = cv2.morphologyEx(morph, cv2.MORPH_OPEN, kernel, iterations=1)\n",
    "    \n",
    "    # 5. Skeletonization (using alternative method)\n",
    "    skeleton = skeletonize(morph)\n",
    "    \n",
    "    # 6. Final inversion and saving\n",
    "    result = cv2.bitwise_not(skeleton)\n",
    "    cv2.imwrite(output_path, result)\n",
    "\n",
    "def batch_process_fingerprints(input_folder, output_folder, upscale=False):\n",
    "    \"\"\"\n",
    "    Process all fingerprints in a folder\n",
    "    \"\"\"\n",
    "    os.makedirs(output_folder, exist_ok=True)\n",
    "    files = [f for f in os.listdir(input_folder) if f.lower().endswith('.tif')]\n",
    "    \n",
    "    for filename in tqdm(files, desc=\"Processing Fingerprints\"):\n",
    "        input_path = os.path.join(input_folder, filename)\n",
    "        output_path = os.path.join(output_folder, filename)\n",
    "        \n",
    "        try:\n",
    "            if upscale:\n",
    "                process_fingerprint(input_path, output_path, upscale_factor=2.0)\n",
    "            else:\n",
    "                process_fingerprint(input_path, output_path)\n",
    "        except Exception as e:\n",
    "            print(f\"\\nError processing {filename}: {str(e)}\")\n",
    "            continue\n",
    "\n",
    "if __name__ == \"__main__\":\n",
    "    INPUT_FOLDER = \"assets\"\n",
    "    OUTPUT_FOLDER = \"processed\"\n",
    "    UPSCALE_IMAGES = True  # Set to True for 2x upscaling\n",
    "    \n",
    "    print(\"Starting fingerprint processing...\")\n",
    "    batch_process_fingerprints(INPUT_FOLDER, OUTPUT_FOLDER, upscale=UPSCALE_IMAGES)\n",
    "    print(\"\\nProcessing completed successfully!\")"
   ]
  },
  {
   "cell_type": "code",
   "execution_count": null,
   "metadata": {},
   "outputs": [],
   "source": [
    "import os\n",
    "import shutil\n",
    "import random\n",
    "from tqdm import tqdm\n",
    "\n",
    "# Set random seed for reproducibility\n",
    "random.seed(42)  # Ensures the same split every time you run the code\n",
    "\n",
    "# Define paths\n",
    "dataset_folder = \"processed\"\n",
    "train_folder = \"dataset/train\"\n",
    "test_folder = \"dataset/test\"\n",
    "\n",
    "# Create train and test folders\n",
    "os.makedirs(train_folder, exist_ok=True)\n",
    "os.makedirs(test_folder, exist_ok=True)\n",
    "\n",
    "# Get all image files and shuffle them\n",
    "all_files = [f for f in os.listdir(dataset_folder) if f.endswith('.tif')]\n",
    "random.shuffle(all_files)  # Shuffle to ensure random distribution\n",
    "\n",
    "# Calculate split index (80% train, 20% test)\n",
    "split_idx = int(0.8 * len(all_files))\n",
    "train_files = all_files[:split_idx]  # First 80% for training\n",
    "test_files = all_files[split_idx:]   # Remaining 20% for testing\n",
    "\n",
    "print(f\"Found {len(all_files)} total fingerprint images\")\n",
    "print(f\"- Training images: {len(train_files)} (80%)\")\n",
    "print(f\"- Test images: {len(test_files)} (20%)\")\n",
    "\n",
    "# Function to copy files\n",
    "def copy_files(file_list, destination_folder):\n",
    "    for file in tqdm(file_list, desc=f\"Copying to {os.path.basename(destination_folder)}\"):\n",
    "        src = os.path.join(dataset_folder, file)\n",
    "        dest = os.path.join(destination_folder, file)\n",
    "        shutil.copy2(src, dest)\n",
    "\n",
    "# Copy files to respective folders\n",
    "copy_files(train_files, train_folder)\n",
    "copy_files(test_files, test_folder)\n",
    "\n",
    "print(\"\\nDataset organization completed:\")\n",
    "print(f\"- Training set: {len(train_files)} images (copied to {train_folder})\")\n",
    "print(f\"- Test set: {len(test_files)} images (copied to {test_folder})\")\n",
    "print(f\"Original files remain intact in {dataset_folder}\")"
   ]
  },
  {
   "cell_type": "code",
   "execution_count": null,
   "metadata": {},
   "outputs": [
    {
     "name": "stdout",
     "output_type": "stream",
     "text": [
      "Found 186 test images to process\n"
     ]
    },
    {
     "name": "stderr",
     "output_type": "stream",
     "text": [
      "Damaging images: 100%|██████████| 186/186 [00:05<00:00, 36.19it/s]"
     ]
    },
    {
     "name": "stdout",
     "output_type": "stream",
     "text": [
      "\n",
      "Overwritten 186 images with block damage in dataset\\test\n"
     ]
    },
    {
     "name": "stderr",
     "output_type": "stream",
     "text": [
      "\n"
     ]
    }
   ],
   "source": [
    "import cv2\n",
    "import numpy as np\n",
    "import os\n",
    "import random\n",
    "from tqdm import tqdm\n",
    "\n",
    "# Path configuration\n",
    "test_dir = os.path.join(\"dataset\", \"test\")\n",
    "\n",
    "def apply_block_damage(image, block_size=80, num_blocks=7):\n",
    "    \"\"\"Apply rectangular white block damage to fingerprint image.\"\"\"\n",
    "    damaged = np.copy(image)\n",
    "    height, width = image.shape\n",
    "    \n",
    "    for _ in range(num_blocks):\n",
    "        # Ensure blocks don't go out of bounds\n",
    "        x = random.randint(0, max(0, width - block_size - 1))\n",
    "        y = random.randint(0, max(0, height - block_size - 1))\n",
    "        damaged[y:y+block_size, x:x+block_size] = 255  # White blocks\n",
    "    return damaged\n",
    "\n",
    "# Get all test images (include all .tif files)\n",
    "test_images = [f for f in os.listdir(test_dir) if f.endswith(\".tif\")]\n",
    "print(f\"Found {len(test_images)} test images to process\")\n",
    "\n",
    "# Process and overwrite originals (with progress bar)\n",
    "for filename in tqdm(test_images, desc=\"Damaging images\"):\n",
    "    image_path = os.path.join(test_dir, filename)\n",
    "    image = cv2.imread(image_path, cv2.IMREAD_GRAYSCALE)\n",
    "    \n",
    "    if image is not None:\n",
    "        damaged_image = apply_block_damage(image)\n",
    "        cv2.imwrite(image_path, damaged_image)  # Overwrite original\n",
    "\n",
    "print(f\"\\nOverwritten {len(test_images)} images with block damage in {test_dir}\")"
   ]
  },
  {
   "cell_type": "markdown",
   "metadata": {},
   "source": [
    "TEST NEW APPROACH"
   ]
  },
  {
   "cell_type": "code",
   "execution_count": 5,
   "metadata": {},
   "outputs": [
    {
     "name": "stdout",
     "output_type": "stream",
     "text": [
      "✅ Loaded 742 images into a TensorFlow dataset!\n"
     ]
    }
   ],
   "source": [
    "import tensorflow as tf\n",
    "import numpy as np\n",
    "import cv2\n",
    "import os\n",
    "\n",
    "# Paths\n",
    "train_dir = \"dataset/train\"\n",
    "test_dir = \"dataset/test\"\n",
    "batch_size = 8\n",
    "img_size = (224, 224)  # Resize images\n",
    "\n",
    "# Get all .tif images\n",
    "image_files = [f for f in os.listdir(train_dir) if f.endswith(\".tif\")]\n",
    "\n",
    "# Extract class labels from filenames (e.g., \"001_1.tif\" → class 001 → index 0)\n",
    "class_labels = sorted(set(f.split(\"_\")[0] for f in image_files))  # Unique classes\n",
    "class_to_index = {label: i for i, label in enumerate(class_labels)}\n",
    "\n",
    "# Function to load and preprocess images\n",
    "def load_image(filename, dir_path, class_to_index):\n",
    "    img_path = os.path.join(dir_path, filename)\n",
    "    img = cv2.imread(img_path, cv2.IMREAD_GRAYSCALE)  # still loading in grayscale\n",
    "    img = cv2.resize(img, img_size)\n",
    "    img = img / 255.0\n",
    "    img = np.expand_dims(img, axis=-1)           # (224, 224, 1)\n",
    "    img = np.repeat(img, 3, axis=-1)             # (224, 224, 3) → RGB from grayscale\n",
    "\n",
    "    class_id = filename.split(\"_\")[0]\n",
    "    label = class_to_index[class_id]\n",
    "\n",
    "    return img, label\n",
    "\n",
    "# Load all images into memory\n",
    "dataset = [load_image(f, train_dir, class_to_index) for f in image_files]\n",
    "\n",
    "# Convert to TensorFlow dataset\n",
    "X, y = zip(*dataset)  # Split images and labels\n",
    "X = np.array(X, dtype=np.float32)  # Convert to NumPy array\n",
    "y = np.array(y, dtype=np.int32)\n",
    "\n",
    "# Create tf.data.Dataset\n",
    "tf_dataset = tf.data.Dataset.from_tensor_slices((X, y))\n",
    "tf_dataset = tf_dataset.batch(batch_size).shuffle(len(y))\n",
    "\n",
    "print(f\"✅ Loaded {len(y)} images into a TensorFlow dataset!\")"
   ]
  },
  {
   "cell_type": "code",
   "execution_count": 6,
   "metadata": {},
   "outputs": [
    {
     "name": "stdout",
     "output_type": "stream",
     "text": [
      "✅ Loaded 742 training images into TensorFlow dataset\n"
     ]
    }
   ],
   "source": [
    "train_files = [f for f in os.listdir(train_dir) if f.endswith(\".tif\")]\n",
    "train_labels = sorted(set(f.split(\"_\")[0] for f in train_files))\n",
    "class_to_index = {label: i for i, label in enumerate(train_labels)}\n",
    "\n",
    "# Load training data\n",
    "train_data = [load_image(f, train_dir, class_to_index) for f in train_files]\n",
    "X_train, y_train = zip(*train_data)\n",
    "X_train = np.array(X_train, dtype=np.float32)\n",
    "y_train = np.array(y_train, dtype=np.int32)\n",
    "\n",
    "# Convert to tf.data.Dataset and batch it\n",
    "tf_dataset = tf.data.Dataset.from_tensor_slices((X_train, y_train))\n",
    "tf_dataset = tf_dataset.shuffle(len(y_train)).batch(batch_size)\n",
    "\n",
    "print(f\"✅ Loaded {len(y_train)} training images into TensorFlow dataset\")\n"
   ]
  },
  {
   "cell_type": "code",
   "execution_count": 7,
   "metadata": {},
   "outputs": [
    {
     "name": "stdout",
     "output_type": "stream",
     "text": [
      "✅ Loaded 186 training images into TensorFlow dataset\n"
     ]
    }
   ],
   "source": [
    "test_image_files = [f for f in os.listdir(test_dir) if f.endswith(\".tif\")]\n",
    "\n",
    "# Function to load and preprocess test images\n",
    "test_dataset = [load_image(f, test_dir, class_to_index) for f in test_image_files]\n",
    "\n",
    "# Convert to TensorFlow test dataset\n",
    "X_test, y_test = zip(*test_dataset)\n",
    "X_test = np.array(X_test, dtype=np.float32)\n",
    "y_test = np.array(y_test, dtype=np.int32)\n",
    "\n",
    "# Create tf.data.Dataset for testing\n",
    "tf_test_dataset = tf.data.Dataset.from_tensor_slices((X_test, y_test))\n",
    "tf_test_dataset = tf_test_dataset.batch(batch_size)\n",
    "print(f\"✅ Loaded {len(y_test)} training images into TensorFlow dataset\")"
   ]
  },
  {
   "cell_type": "code",
   "execution_count": 8,
   "metadata": {},
   "outputs": [
    {
     "name": "stdout",
     "output_type": "stream",
     "text": [
      "WARNING:tensorflow:Using a while_loop for converting RngReadAndSkip cause there is no registered converter for this op.\n",
      "WARNING:tensorflow:Using a while_loop for converting Bitcast cause there is no registered converter for this op.\n",
      "WARNING:tensorflow:Using a while_loop for converting Bitcast cause there is no registered converter for this op.\n",
      "WARNING:tensorflow:Using a while_loop for converting StatelessRandomUniformV2 cause there is no registered converter for this op.\n",
      "WARNING:tensorflow:Using a while_loop for converting ImageProjectiveTransformV3 cause there is no registered converter for this op.\n",
      "WARNING:tensorflow:Using a while_loop for converting RngReadAndSkip cause there is no registered converter for this op.\n",
      "WARNING:tensorflow:Using a while_loop for converting Bitcast cause there is no registered converter for this op.\n",
      "WARNING:tensorflow:Using a while_loop for converting Bitcast cause there is no registered converter for this op.\n",
      "WARNING:tensorflow:Using a while_loop for converting StatelessRandomUniformV2 cause there is no registered converter for this op.\n",
      "WARNING:tensorflow:Using a while_loop for converting ImageProjectiveTransformV3 cause there is no registered converter for this op.\n",
      "WARNING:tensorflow:Using a while_loop for converting RngReadAndSkip cause there is no registered converter for this op.\n",
      "WARNING:tensorflow:Using a while_loop for converting Bitcast cause there is no registered converter for this op.\n",
      "WARNING:tensorflow:Using a while_loop for converting Bitcast cause there is no registered converter for this op.\n",
      "WARNING:tensorflow:Using a while_loop for converting StatelessRandomUniformV2 cause there is no registered converter for this op.\n",
      "WARNING:tensorflow:Using a while_loop for converting RngReadAndSkip cause there is no registered converter for this op.\n",
      "WARNING:tensorflow:Using a while_loop for converting Bitcast cause there is no registered converter for this op.\n",
      "WARNING:tensorflow:Using a while_loop for converting Bitcast cause there is no registered converter for this op.\n",
      "WARNING:tensorflow:Using a while_loop for converting StatelessRandomUniformFullIntV2 cause there is no registered converter for this op.\n",
      "WARNING:tensorflow:Using a while_loop for converting StatelessRandomGetKeyCounter cause there is no registered converter for this op.\n",
      "WARNING:tensorflow:Using a while_loop for converting StatelessRandomUniformV2 cause there is no registered converter for this op.\n",
      "WARNING:tensorflow:Using a while_loop for converting AdjustContrastv2 cause Input \"contrast_factor\" of op 'AdjustContrastv2' expected to be loop invariant.\n",
      "WARNING:tensorflow:Using a while_loop for converting RngReadAndSkip cause there is no registered converter for this op.\n",
      "WARNING:tensorflow:Using a while_loop for converting Bitcast cause there is no registered converter for this op.\n",
      "WARNING:tensorflow:Using a while_loop for converting Bitcast cause there is no registered converter for this op.\n",
      "WARNING:tensorflow:Using a while_loop for converting StatelessRandomUniformV2 cause there is no registered converter for this op.\n",
      "WARNING:tensorflow:Using a while_loop for converting ImageProjectiveTransformV3 cause there is no registered converter for this op.\n",
      "WARNING:tensorflow:Using a while_loop for converting RngReadAndSkip cause there is no registered converter for this op.\n",
      "WARNING:tensorflow:Using a while_loop for converting Bitcast cause there is no registered converter for this op.\n",
      "WARNING:tensorflow:Using a while_loop for converting Bitcast cause there is no registered converter for this op.\n",
      "WARNING:tensorflow:Using a while_loop for converting StatelessRandomUniformV2 cause there is no registered converter for this op.\n",
      "WARNING:tensorflow:Using a while_loop for converting ImageProjectiveTransformV3 cause there is no registered converter for this op.\n",
      "WARNING:tensorflow:Using a while_loop for converting RngReadAndSkip cause there is no registered converter for this op.\n",
      "WARNING:tensorflow:Using a while_loop for converting Bitcast cause there is no registered converter for this op.\n",
      "WARNING:tensorflow:Using a while_loop for converting Bitcast cause there is no registered converter for this op.\n",
      "WARNING:tensorflow:Using a while_loop for converting StatelessRandomUniformV2 cause there is no registered converter for this op.\n",
      "WARNING:tensorflow:Using a while_loop for converting RngReadAndSkip cause there is no registered converter for this op.\n",
      "WARNING:tensorflow:Using a while_loop for converting Bitcast cause there is no registered converter for this op.\n",
      "WARNING:tensorflow:Using a while_loop for converting Bitcast cause there is no registered converter for this op.\n",
      "WARNING:tensorflow:Using a while_loop for converting StatelessRandomUniformFullIntV2 cause there is no registered converter for this op.\n",
      "WARNING:tensorflow:Using a while_loop for converting StatelessRandomGetKeyCounter cause there is no registered converter for this op.\n",
      "WARNING:tensorflow:Using a while_loop for converting StatelessRandomUniformV2 cause there is no registered converter for this op.\n",
      "WARNING:tensorflow:Using a while_loop for converting AdjustContrastv2 cause Input \"contrast_factor\" of op 'AdjustContrastv2' expected to be loop invariant.\n"
     ]
    }
   ],
   "source": [
    "data_augmentation = tf.keras.Sequential([\n",
    "    tf.keras.layers.RandomRotation(0.05),\n",
    "    tf.keras.layers.RandomZoom(0.1),\n",
    "    tf.keras.layers.RandomBrightness(factor=0.1),\n",
    "    tf.keras.layers.RandomContrast(0.1),\n",
    "])\n",
    "\n",
    "def augment(image, label):\n",
    "    return data_augmentation(image), label\n",
    "\n",
    "# Apply augmentation before batching\n",
    "tf_dataset = tf_dataset.map(augment)"
   ]
  },
  {
   "cell_type": "code",
   "execution_count": 9,
   "metadata": {},
   "outputs": [
    {
     "name": "stdout",
     "output_type": "stream",
     "text": [
      "Model: \"model\"\n",
      "_________________________________________________________________\n",
      " Layer (type)                Output Shape              Param #   \n",
      "=================================================================\n",
      " input_1 (InputLayer)        [(None, 224, 224, 3)]     0         \n",
      "                                                                 \n",
      " block1_conv1 (Conv2D)       (None, 224, 224, 64)      1792      \n",
      "                                                                 \n",
      " block1_conv2 (Conv2D)       (None, 224, 224, 64)      36928     \n",
      "                                                                 \n",
      " block1_pool (MaxPooling2D)  (None, 112, 112, 64)      0         \n",
      "                                                                 \n",
      " block2_conv1 (Conv2D)       (None, 112, 112, 128)     73856     \n",
      "                                                                 \n",
      " block2_conv2 (Conv2D)       (None, 112, 112, 128)     147584    \n",
      "                                                                 \n",
      " block2_pool (MaxPooling2D)  (None, 56, 56, 128)       0         \n",
      "                                                                 \n",
      " block3_conv1 (Conv2D)       (None, 56, 56, 256)       295168    \n",
      "                                                                 \n",
      " block3_conv2 (Conv2D)       (None, 56, 56, 256)       590080    \n",
      "                                                                 \n",
      " block3_conv3 (Conv2D)       (None, 56, 56, 256)       590080    \n",
      "                                                                 \n",
      " block3_pool (MaxPooling2D)  (None, 28, 28, 256)       0         \n",
      "                                                                 \n",
      " block4_conv1 (Conv2D)       (None, 28, 28, 512)       1180160   \n",
      "                                                                 \n",
      " block4_conv2 (Conv2D)       (None, 28, 28, 512)       2359808   \n",
      "                                                                 \n",
      " block4_conv3 (Conv2D)       (None, 28, 28, 512)       2359808   \n",
      "                                                                 \n",
      " block4_pool (MaxPooling2D)  (None, 14, 14, 512)       0         \n",
      "                                                                 \n",
      " block5_conv1 (Conv2D)       (None, 14, 14, 512)       2359808   \n",
      "                                                                 \n",
      " block5_conv2 (Conv2D)       (None, 14, 14, 512)       2359808   \n",
      "                                                                 \n",
      " block5_conv3 (Conv2D)       (None, 14, 14, 512)       2359808   \n",
      "                                                                 \n",
      " block5_pool (MaxPooling2D)  (None, 7, 7, 512)         0         \n",
      "                                                                 \n",
      " flatten (Flatten)           (None, 25088)             0         \n",
      "                                                                 \n",
      " dense (Dense)               (None, 1024)              25691136  \n",
      "                                                                 \n",
      " dropout (Dropout)           (None, 1024)              0         \n",
      "                                                                 \n",
      " dense_1 (Dense)             (None, 512)               524800    \n",
      "                                                                 \n",
      " dropout_1 (Dropout)         (None, 512)               0         \n",
      "                                                                 \n",
      " dense_2 (Dense)             (None, 80)                41040     \n",
      "                                                                 \n",
      "=================================================================\n",
      "Total params: 40,971,664\n",
      "Trainable params: 26,256,976\n",
      "Non-trainable params: 14,714,688\n",
      "_________________________________________________________________\n"
     ]
    }
   ],
   "source": [
    "import tensorflow as tf\n",
    "from tensorflow.keras.applications import VGG16\n",
    "from tensorflow.keras.models import Model\n",
    "from tensorflow.keras.layers import Dense, Flatten, Dropout, Input, Conv2D, MaxPooling2D\n",
    "\n",
    "# Number of classes (adjust dynamically)\n",
    "num_classes = 80  # Since your classes range from 001 to 080\n",
    "\n",
    "# Input shape (grayscale images need 3 channels for VGG16)\n",
    "input_shape = (224, 224, 3)\n",
    "\n",
    "# Load VGG16 with pre-trained weights (exclude top layers)\n",
    "base_model = VGG16(weights=\"imagenet\", include_top=False, input_shape=input_shape)\n",
    "\n",
    "# Freeze the base model (VGG16) to retain pre-trained weights\n",
    "base_model.trainable = False  \n",
    "\n",
    "# Add custom layers on top of VGG16\n",
    "x = base_model.output\n",
    "x = Flatten()(x)  # Flatten features\n",
    "x = Dense(1024, activation=\"relu\")(x)  # Fully connected layer\n",
    "x = Dropout(0.5)(x)  # Regularization\n",
    "x = Dense(512, activation=\"relu\")(x)\n",
    "x = Dropout(0.3)(x)\n",
    "output = Dense(num_classes, activation=\"softmax\")(x)  # Classification layer\n",
    "\n",
    "# Define model\n",
    "model = Model(inputs=base_model.input, outputs=output)\n",
    "\n",
    "# Compile model\n",
    "model.compile(optimizer=\"adam\", loss=\"sparse_categorical_crossentropy\", metrics=[\"accuracy\"])\n",
    "\n",
    "# Print summary\n",
    "model.summary()"
   ]
  },
  {
   "cell_type": "code",
   "execution_count": 10,
   "metadata": {},
   "outputs": [],
   "source": [
    "from tensorflow.keras.callbacks import ReduceLROnPlateau\n",
    "for layer in base_model.layers[-10:]:\n",
    "    layer.trainable = True\n",
    "\n",
    "# Re-compile with a smaller learning rate\n",
    "model.compile(optimizer=tf.keras.optimizers.Adam(1e-5),\n",
    "              loss='sparse_categorical_crossentropy',\n",
    "              metrics=['accuracy'])\n",
    "# Learning rate scheduler\n",
    "lr_scheduler = ReduceLROnPlateau(\n",
    "    monitor='val_loss', factor=0.5, patience=3, min_lr=1e-7, verbose=1\n",
    ")"
   ]
  },
  {
   "cell_type": "code",
   "execution_count": 11,
   "metadata": {},
   "outputs": [
    {
     "name": "stdout",
     "output_type": "stream",
     "text": [
      "Epoch 1/30\n",
      "93/93 [==============================] - 37s 260ms/step - loss: 3.8429 - accuracy: 0.0836 - val_loss: 2.8950 - val_accuracy: 0.1828 - lr: 1.0000e-05\n",
      "Epoch 2/30\n",
      "93/93 [==============================] - 19s 203ms/step - loss: 3.1984 - accuracy: 0.1173 - val_loss: 2.5713 - val_accuracy: 0.2903 - lr: 1.0000e-05\n",
      "Epoch 3/30\n",
      "93/93 [==============================] - 19s 202ms/step - loss: 2.9786 - accuracy: 0.1563 - val_loss: 2.2706 - val_accuracy: 0.3065 - lr: 1.0000e-05\n",
      "Epoch 4/30\n",
      "93/93 [==============================] - 19s 204ms/step - loss: 2.7205 - accuracy: 0.2022 - val_loss: 2.0464 - val_accuracy: 0.4301 - lr: 1.0000e-05\n",
      "Epoch 5/30\n",
      "93/93 [==============================] - 19s 204ms/step - loss: 2.6466 - accuracy: 0.2197 - val_loss: 1.7870 - val_accuracy: 0.4892 - lr: 1.0000e-05\n",
      "Epoch 6/30\n",
      "93/93 [==============================] - 19s 204ms/step - loss: 2.6664 - accuracy: 0.2183 - val_loss: 1.6444 - val_accuracy: 0.6022 - lr: 1.0000e-05\n",
      "Epoch 7/30\n",
      "93/93 [==============================] - 19s 207ms/step - loss: 2.4950 - accuracy: 0.2615 - val_loss: 1.4401 - val_accuracy: 0.4892 - lr: 1.0000e-05\n",
      "Epoch 8/30\n",
      "93/93 [==============================] - 19s 208ms/step - loss: 2.3402 - accuracy: 0.2938 - val_loss: 1.3892 - val_accuracy: 0.5968 - lr: 1.0000e-05\n",
      "Epoch 9/30\n",
      "93/93 [==============================] - 18s 196ms/step - loss: 2.3348 - accuracy: 0.2951 - val_loss: 1.3209 - val_accuracy: 0.6559 - lr: 1.0000e-05\n",
      "Epoch 10/30\n",
      "93/93 [==============================] - 19s 205ms/step - loss: 2.1762 - accuracy: 0.3302 - val_loss: 1.0517 - val_accuracy: 0.6505 - lr: 1.0000e-05\n",
      "Epoch 11/30\n",
      "93/93 [==============================] - 18s 199ms/step - loss: 2.2719 - accuracy: 0.3059 - val_loss: 1.0540 - val_accuracy: 0.6720 - lr: 1.0000e-05\n",
      "Epoch 12/30\n",
      "93/93 [==============================] - 19s 200ms/step - loss: 2.1348 - accuracy: 0.3369 - val_loss: 0.9440 - val_accuracy: 0.6935 - lr: 1.0000e-05\n",
      "Epoch 13/30\n",
      "93/93 [==============================] - 19s 201ms/step - loss: 2.0174 - accuracy: 0.3787 - val_loss: 0.7615 - val_accuracy: 0.7903 - lr: 1.0000e-05\n",
      "Epoch 14/30\n",
      "93/93 [==============================] - 18s 197ms/step - loss: 2.1100 - accuracy: 0.3423 - val_loss: 0.8245 - val_accuracy: 0.7634 - lr: 1.0000e-05\n",
      "Epoch 15/30\n",
      "93/93 [==============================] - 18s 196ms/step - loss: 1.9502 - accuracy: 0.3854 - val_loss: 0.7169 - val_accuracy: 0.7688 - lr: 1.0000e-05\n",
      "Epoch 16/30\n",
      "93/93 [==============================] - 18s 197ms/step - loss: 1.9977 - accuracy: 0.3760 - val_loss: 0.7392 - val_accuracy: 0.7796 - lr: 1.0000e-05\n",
      "Epoch 17/30\n",
      "93/93 [==============================] - 18s 197ms/step - loss: 1.9966 - accuracy: 0.3801 - val_loss: 0.7145 - val_accuracy: 0.7903 - lr: 1.0000e-05\n",
      "Epoch 18/30\n",
      "93/93 [==============================] - 18s 197ms/step - loss: 1.9425 - accuracy: 0.3962 - val_loss: 0.6032 - val_accuracy: 0.7849 - lr: 1.0000e-05\n",
      "Epoch 19/30\n",
      "93/93 [==============================] - 18s 197ms/step - loss: 1.7738 - accuracy: 0.4474 - val_loss: 0.6176 - val_accuracy: 0.8118 - lr: 1.0000e-05\n",
      "Epoch 20/30\n",
      "93/93 [==============================] - 18s 197ms/step - loss: 1.7907 - accuracy: 0.4474 - val_loss: 0.5580 - val_accuracy: 0.8387 - lr: 1.0000e-05\n",
      "Epoch 21/30\n",
      "93/93 [==============================] - 18s 196ms/step - loss: 1.6967 - accuracy: 0.4677 - val_loss: 0.4908 - val_accuracy: 0.8387 - lr: 1.0000e-05\n",
      "Epoch 22/30\n",
      "93/93 [==============================] - 18s 196ms/step - loss: 1.8165 - accuracy: 0.4272 - val_loss: 0.5796 - val_accuracy: 0.8226 - lr: 1.0000e-05\n",
      "Epoch 23/30\n",
      "93/93 [==============================] - 18s 196ms/step - loss: 1.7507 - accuracy: 0.4474 - val_loss: 0.4899 - val_accuracy: 0.8441 - lr: 1.0000e-05\n",
      "Epoch 24/30\n",
      "93/93 [==============================] - 18s 196ms/step - loss: 1.6657 - accuracy: 0.4852 - val_loss: 0.4993 - val_accuracy: 0.8280 - lr: 1.0000e-05\n",
      "Epoch 25/30\n",
      "93/93 [==============================] - 18s 195ms/step - loss: 1.7735 - accuracy: 0.4555 - val_loss: 0.4584 - val_accuracy: 0.8602 - lr: 1.0000e-05\n",
      "Epoch 26/30\n",
      "93/93 [==============================] - 18s 197ms/step - loss: 1.7006 - accuracy: 0.4609 - val_loss: 0.4058 - val_accuracy: 0.8817 - lr: 1.0000e-05\n",
      "Epoch 27/30\n",
      "93/93 [==============================] - 18s 196ms/step - loss: 1.6757 - accuracy: 0.4730 - val_loss: 0.3853 - val_accuracy: 0.8871 - lr: 1.0000e-05\n",
      "Epoch 28/30\n",
      "93/93 [==============================] - 18s 195ms/step - loss: 1.7040 - accuracy: 0.4596 - val_loss: 0.3450 - val_accuracy: 0.8978 - lr: 1.0000e-05\n",
      "Epoch 29/30\n",
      "93/93 [==============================] - 18s 197ms/step - loss: 1.5607 - accuracy: 0.5121 - val_loss: 0.4057 - val_accuracy: 0.8763 - lr: 1.0000e-05\n",
      "Epoch 30/30\n",
      "93/93 [==============================] - 18s 196ms/step - loss: 1.6924 - accuracy: 0.4650 - val_loss: 0.4161 - val_accuracy: 0.8548 - lr: 1.0000e-05\n"
     ]
    },
    {
     "data": {
      "text/plain": [
       "<keras.callbacks.History at 0x180cedcd610>"
      ]
     },
     "execution_count": 11,
     "metadata": {},
     "output_type": "execute_result"
    }
   ],
   "source": [
    "model.fit(tf_dataset,\n",
    "          validation_data=tf_test_dataset,\n",
    "          epochs=30,\n",
    "          callbacks=[lr_scheduler])"
   ]
  },
  {
   "cell_type": "code",
   "execution_count": 12,
   "metadata": {},
   "outputs": [
    {
     "name": "stdout",
     "output_type": "stream",
     "text": [
      "Epoch 1/15\n",
      "93/93 [==============================] - 18s 198ms/step - loss: 1.7118 - accuracy: 0.4704 - val_loss: 0.4070 - val_accuracy: 0.8763 - lr: 1.0000e-05\n",
      "Epoch 2/15\n",
      "93/93 [==============================] - 18s 194ms/step - loss: 1.5659 - accuracy: 0.5054 - val_loss: 0.2989 - val_accuracy: 0.9086 - lr: 1.0000e-05\n",
      "Epoch 3/15\n",
      "93/93 [==============================] - 18s 193ms/step - loss: 1.5644 - accuracy: 0.5175 - val_loss: 0.3553 - val_accuracy: 0.8978 - lr: 1.0000e-05\n",
      "Epoch 4/15\n",
      "93/93 [==============================] - 18s 192ms/step - loss: 1.5985 - accuracy: 0.4798 - val_loss: 0.3490 - val_accuracy: 0.8871 - lr: 1.0000e-05\n",
      "Epoch 5/15\n",
      "93/93 [==============================] - ETA: 0s - loss: 1.6710 - accuracy: 0.4690\n",
      "Epoch 5: ReduceLROnPlateau reducing learning rate to 4.999999873689376e-06.\n",
      "93/93 [==============================] - 18s 192ms/step - loss: 1.6710 - accuracy: 0.4690 - val_loss: 0.3482 - val_accuracy: 0.9032 - lr: 1.0000e-05\n",
      "Epoch 6/15\n",
      "93/93 [==============================] - 18s 192ms/step - loss: 1.4996 - accuracy: 0.5350 - val_loss: 0.3371 - val_accuracy: 0.9032 - lr: 5.0000e-06\n",
      "Epoch 7/15\n",
      "93/93 [==============================] - 18s 191ms/step - loss: 1.4736 - accuracy: 0.5310 - val_loss: 0.2495 - val_accuracy: 0.9247 - lr: 5.0000e-06\n",
      "Epoch 8/15\n",
      "93/93 [==============================] - 18s 192ms/step - loss: 1.5932 - accuracy: 0.5013 - val_loss: 0.2763 - val_accuracy: 0.9086 - lr: 5.0000e-06\n",
      "Epoch 9/15\n",
      "93/93 [==============================] - 19s 206ms/step - loss: 1.5185 - accuracy: 0.5256 - val_loss: 0.2693 - val_accuracy: 0.9140 - lr: 5.0000e-06\n",
      "Epoch 10/15\n",
      "93/93 [==============================] - 19s 205ms/step - loss: 1.4218 - accuracy: 0.5553 - val_loss: 0.2345 - val_accuracy: 0.9194 - lr: 5.0000e-06\n",
      "Epoch 11/15\n",
      "93/93 [==============================] - 18s 191ms/step - loss: 1.4694 - accuracy: 0.5337 - val_loss: 0.2679 - val_accuracy: 0.9032 - lr: 5.0000e-06\n",
      "Epoch 12/15\n",
      "93/93 [==============================] - 18s 196ms/step - loss: 1.5021 - accuracy: 0.5162 - val_loss: 0.2728 - val_accuracy: 0.8925 - lr: 5.0000e-06\n",
      "Epoch 13/15\n",
      "93/93 [==============================] - 18s 196ms/step - loss: 1.4860 - accuracy: 0.5296 - val_loss: 0.2007 - val_accuracy: 0.9462 - lr: 5.0000e-06\n",
      "Epoch 14/15\n",
      "93/93 [==============================] - 18s 196ms/step - loss: 1.6483 - accuracy: 0.4838 - val_loss: 0.2265 - val_accuracy: 0.9409 - lr: 5.0000e-06\n",
      "Epoch 15/15\n",
      "93/93 [==============================] - 19s 202ms/step - loss: 1.4657 - accuracy: 0.5202 - val_loss: 0.2082 - val_accuracy: 0.9409 - lr: 5.0000e-06\n"
     ]
    },
    {
     "data": {
      "text/plain": [
       "<keras.callbacks.History at 0x1806f9d4400>"
      ]
     },
     "execution_count": 12,
     "metadata": {},
     "output_type": "execute_result"
    }
   ],
   "source": [
    "model.fit(tf_dataset,\n",
    "          validation_data=tf_test_dataset,\n",
    "          epochs=15,\n",
    "          callbacks=[lr_scheduler])"
   ]
  },
  {
   "cell_type": "code",
   "execution_count": 13,
   "metadata": {},
   "outputs": [
    {
     "name": "stdout",
     "output_type": "stream",
     "text": [
      "Epoch 1/15\n",
      "93/93 [==============================] - 18s 196ms/step - loss: 1.4444 - accuracy: 0.5256 - val_loss: 0.2085 - val_accuracy: 0.9301 - lr: 5.0000e-06\n",
      "Epoch 2/15\n",
      "93/93 [==============================] - 18s 192ms/step - loss: 1.4818 - accuracy: 0.5310 - val_loss: 0.1751 - val_accuracy: 0.9409 - lr: 5.0000e-06\n",
      "Epoch 3/15\n",
      "93/93 [==============================] - 18s 194ms/step - loss: 1.4977 - accuracy: 0.5377 - val_loss: 0.2726 - val_accuracy: 0.9140 - lr: 5.0000e-06\n",
      "Epoch 4/15\n",
      "93/93 [==============================] - 18s 198ms/step - loss: 1.4911 - accuracy: 0.5377 - val_loss: 0.1949 - val_accuracy: 0.9247 - lr: 5.0000e-06\n",
      "Epoch 5/15\n",
      "93/93 [==============================] - ETA: 0s - loss: 1.4032 - accuracy: 0.5606\n",
      "Epoch 5: ReduceLROnPlateau reducing learning rate to 2.499999936844688e-06.\n",
      "93/93 [==============================] - 19s 204ms/step - loss: 1.4032 - accuracy: 0.5606 - val_loss: 0.1975 - val_accuracy: 0.9462 - lr: 5.0000e-06\n",
      "Epoch 6/15\n",
      "93/93 [==============================] - 19s 202ms/step - loss: 1.5209 - accuracy: 0.5081 - val_loss: 0.1652 - val_accuracy: 0.9570 - lr: 2.5000e-06\n",
      "Epoch 7/15\n",
      "93/93 [==============================] - 19s 202ms/step - loss: 1.4224 - accuracy: 0.5445 - val_loss: 0.1950 - val_accuracy: 0.9409 - lr: 2.5000e-06\n",
      "Epoch 8/15\n",
      "93/93 [==============================] - 19s 201ms/step - loss: 1.5382 - accuracy: 0.5108 - val_loss: 0.1827 - val_accuracy: 0.9355 - lr: 2.5000e-06\n",
      "Epoch 9/15\n",
      "93/93 [==============================] - ETA: 0s - loss: 1.3853 - accuracy: 0.5499\n",
      "Epoch 9: ReduceLROnPlateau reducing learning rate to 1.249999968422344e-06.\n",
      "93/93 [==============================] - 19s 200ms/step - loss: 1.3853 - accuracy: 0.5499 - val_loss: 0.2223 - val_accuracy: 0.9409 - lr: 2.5000e-06\n",
      "Epoch 10/15\n",
      "93/93 [==============================] - 19s 200ms/step - loss: 1.4643 - accuracy: 0.5337 - val_loss: 0.2068 - val_accuracy: 0.9301 - lr: 1.2500e-06\n",
      "Epoch 11/15\n",
      "93/93 [==============================] - 19s 206ms/step - loss: 1.5005 - accuracy: 0.5270 - val_loss: 0.2073 - val_accuracy: 0.9355 - lr: 1.2500e-06\n",
      "Epoch 12/15\n",
      "93/93 [==============================] - 19s 205ms/step - loss: 1.5247 - accuracy: 0.5189 - val_loss: 0.1609 - val_accuracy: 0.9409 - lr: 1.2500e-06\n",
      "Epoch 13/15\n",
      "93/93 [==============================] - 19s 205ms/step - loss: 1.4112 - accuracy: 0.5485 - val_loss: 0.1698 - val_accuracy: 0.9355 - lr: 1.2500e-06\n",
      "Epoch 14/15\n",
      "93/93 [==============================] - 19s 204ms/step - loss: 1.4343 - accuracy: 0.5445 - val_loss: 0.1632 - val_accuracy: 0.9355 - lr: 1.2500e-06\n",
      "Epoch 15/15\n",
      "93/93 [==============================] - ETA: 0s - loss: 1.4036 - accuracy: 0.5553\n",
      "Epoch 15: ReduceLROnPlateau reducing learning rate to 6.24999984211172e-07.\n",
      "93/93 [==============================] - 19s 206ms/step - loss: 1.4036 - accuracy: 0.5553 - val_loss: 0.1658 - val_accuracy: 0.9355 - lr: 1.2500e-06\n"
     ]
    },
    {
     "data": {
      "text/plain": [
       "<keras.callbacks.History at 0x180ca379a30>"
      ]
     },
     "execution_count": 13,
     "metadata": {},
     "output_type": "execute_result"
    }
   ],
   "source": [
    "model.fit(tf_dataset,\n",
    "          validation_data=tf_test_dataset,\n",
    "          epochs=15,\n",
    "          callbacks=[lr_scheduler])"
   ]
  },
  {
   "cell_type": "code",
   "execution_count": 14,
   "metadata": {},
   "outputs": [
    {
     "name": "stdout",
     "output_type": "stream",
     "text": [
      "Epoch 1/15\n",
      "93/93 [==============================] - 18s 197ms/step - loss: 1.4263 - accuracy: 0.5350 - val_loss: 0.1741 - val_accuracy: 0.9409 - lr: 6.2500e-07\n",
      "Epoch 2/15\n",
      "93/93 [==============================] - 18s 193ms/step - loss: 1.3713 - accuracy: 0.5566 - val_loss: 0.1744 - val_accuracy: 0.9409 - lr: 6.2500e-07\n",
      "Epoch 3/15\n",
      "93/93 [==============================] - 19s 202ms/step - loss: 1.3886 - accuracy: 0.5512 - val_loss: 0.1584 - val_accuracy: 0.9409 - lr: 6.2500e-07\n",
      "Epoch 4/15\n",
      "93/93 [==============================] - 18s 198ms/step - loss: 1.4543 - accuracy: 0.5323 - val_loss: 0.1690 - val_accuracy: 0.9355 - lr: 6.2500e-07\n",
      "Epoch 5/15\n",
      "93/93 [==============================] - 19s 208ms/step - loss: 1.5252 - accuracy: 0.5162 - val_loss: 0.1677 - val_accuracy: 0.9409 - lr: 6.2500e-07\n",
      "Epoch 6/15\n",
      "93/93 [==============================] - ETA: 0s - loss: 1.3774 - accuracy: 0.5553\n",
      "Epoch 6: ReduceLROnPlateau reducing learning rate to 3.12499992105586e-07.\n",
      "93/93 [==============================] - 19s 203ms/step - loss: 1.3774 - accuracy: 0.5553 - val_loss: 0.1677 - val_accuracy: 0.9409 - lr: 6.2500e-07\n",
      "Epoch 7/15\n",
      "93/93 [==============================] - 19s 200ms/step - loss: 1.4370 - accuracy: 0.5310 - val_loss: 0.1634 - val_accuracy: 0.9409 - lr: 3.1250e-07\n",
      "Epoch 8/15\n",
      "93/93 [==============================] - 18s 194ms/step - loss: 1.5326 - accuracy: 0.5229 - val_loss: 0.1739 - val_accuracy: 0.9409 - lr: 3.1250e-07\n",
      "Epoch 9/15\n",
      "93/93 [==============================] - ETA: 0s - loss: 1.5309 - accuracy: 0.5027\n",
      "Epoch 9: ReduceLROnPlateau reducing learning rate to 1.56249996052793e-07.\n",
      "93/93 [==============================] - 18s 193ms/step - loss: 1.5309 - accuracy: 0.5027 - val_loss: 0.1742 - val_accuracy: 0.9409 - lr: 3.1250e-07\n",
      "Epoch 10/15\n",
      "93/93 [==============================] - 18s 199ms/step - loss: 1.3622 - accuracy: 0.5553 - val_loss: 0.1700 - val_accuracy: 0.9409 - lr: 1.5625e-07\n",
      "Epoch 11/15\n",
      "93/93 [==============================] - 18s 198ms/step - loss: 1.4257 - accuracy: 0.5499 - val_loss: 0.1656 - val_accuracy: 0.9409 - lr: 1.5625e-07\n",
      "Epoch 12/15\n",
      "93/93 [==============================] - ETA: 0s - loss: 1.4933 - accuracy: 0.5256\n",
      "Epoch 12: ReduceLROnPlateau reducing learning rate to 1e-07.\n",
      "93/93 [==============================] - 19s 199ms/step - loss: 1.4933 - accuracy: 0.5256 - val_loss: 0.1665 - val_accuracy: 0.9409 - lr: 1.5625e-07\n",
      "Epoch 13/15\n",
      "93/93 [==============================] - 18s 194ms/step - loss: 1.4273 - accuracy: 0.5418 - val_loss: 0.1674 - val_accuracy: 0.9409 - lr: 1.0000e-07\n",
      "Epoch 14/15\n",
      "93/93 [==============================] - 18s 197ms/step - loss: 1.4122 - accuracy: 0.5566 - val_loss: 0.1682 - val_accuracy: 0.9409 - lr: 1.0000e-07\n",
      "Epoch 15/15\n",
      "93/93 [==============================] - 18s 198ms/step - loss: 1.4229 - accuracy: 0.5445 - val_loss: 0.1693 - val_accuracy: 0.9409 - lr: 1.0000e-07\n"
     ]
    },
    {
     "data": {
      "text/plain": [
       "<keras.callbacks.History at 0x180cededfd0>"
      ]
     },
     "execution_count": 14,
     "metadata": {},
     "output_type": "execute_result"
    }
   ],
   "source": [
    "model.fit(tf_dataset,\n",
    "          validation_data=tf_test_dataset,\n",
    "          epochs=15,\n",
    "          callbacks=[lr_scheduler])"
   ]
  },
  {
   "cell_type": "code",
   "execution_count": 15,
   "metadata": {},
   "outputs": [
    {
     "name": "stdout",
     "output_type": "stream",
     "text": [
      "24/24 [==============================] - 2s 67ms/step - loss: 0.1693 - accuracy: 0.9409\n",
      "Test Accuracy: 0.9409\n",
      "Test Loss: 0.1693\n"
     ]
    }
   ],
   "source": [
    "test_loss, test_acc = model.evaluate(tf_test_dataset) # 60 epochs -> 0.9301\n",
    "print(f\"Test Accuracy: {test_acc:.4f}\")               # 69 epochs -> 0.9462\n",
    "print(f\"Test Loss: {test_loss:.4f}\")                  # 88 epochs -> 0.9624"
   ]
  },
  {
   "cell_type": "code",
   "execution_count": 16,
   "metadata": {},
   "outputs": [
    {
     "name": "stdout",
     "output_type": "stream",
     "text": [
      "24/24 [==============================] - 2s 66ms/step\n",
      "\n",
      "Classification Report:\n",
      "              precision    recall  f1-score   support\n",
      "\n",
      "           0     0.9000    1.0000    0.9474         9\n",
      "           1     1.0000    0.9167    0.9565        12\n",
      "           2     0.9000    1.0000    0.9474         9\n",
      "           3     1.0000    0.8750    0.9333         8\n",
      "           4     0.9231    0.9231    0.9231        13\n",
      "           5     0.9091    0.9091    0.9091        11\n",
      "           6     0.8333    1.0000    0.9091         5\n",
      "           7     1.0000    0.6667    0.8000         3\n",
      "           8     1.0000    1.0000    1.0000        11\n",
      "           9     1.0000    1.0000    1.0000        12\n",
      "          10     1.0000    1.0000    1.0000        11\n",
      "          11     1.0000    0.8667    0.9286        15\n",
      "          12     1.0000    0.8947    0.9444        19\n",
      "          13     0.7826    1.0000    0.8780        18\n",
      "          14     1.0000    0.7143    0.8333         7\n",
      "          15     0.9583    1.0000    0.9787        23\n",
      "\n",
      "    accuracy                         0.9409       186\n",
      "   macro avg     0.9504    0.9229    0.9306       186\n",
      "weighted avg     0.9489    0.9409    0.9407       186\n",
      "\n",
      "Confusion Matrix:\n",
      "[[ 9  0  0  0  0  0  0  0  0  0  0  0  0  0  0  0]\n",
      " [ 1 11  0  0  0  0  0  0  0  0  0  0  0  0  0  0]\n",
      " [ 0  0  9  0  0  0  0  0  0  0  0  0  0  0  0  0]\n",
      " [ 0  0  0  7  0  0  1  0  0  0  0  0  0  0  0  0]\n",
      " [ 0  0  0  0 12  1  0  0  0  0  0  0  0  0  0  0]\n",
      " [ 0  0  0  0  1 10  0  0  0  0  0  0  0  0  0  0]\n",
      " [ 0  0  0  0  0  0  5  0  0  0  0  0  0  0  0  0]\n",
      " [ 0  0  1  0  0  0  0  2  0  0  0  0  0  0  0  0]\n",
      " [ 0  0  0  0  0  0  0  0 11  0  0  0  0  0  0  0]\n",
      " [ 0  0  0  0  0  0  0  0  0 12  0  0  0  0  0  0]\n",
      " [ 0  0  0  0  0  0  0  0  0  0 11  0  0  0  0  0]\n",
      " [ 0  0  0  0  0  0  0  0  0  0  0 13  0  2  0  0]\n",
      " [ 0  0  0  0  0  0  0  0  0  0  0  0 17  2  0  0]\n",
      " [ 0  0  0  0  0  0  0  0  0  0  0  0  0 18  0  0]\n",
      " [ 0  0  0  0  0  0  0  0  0  0  0  0  0  1  5  1]\n",
      " [ 0  0  0  0  0  0  0  0  0  0  0  0  0  0  0 23]]\n"
     ]
    }
   ],
   "source": [
    "from sklearn.metrics import classification_report, confusion_matrix\n",
    "\n",
    "X_test = []\n",
    "y_test = []\n",
    "\n",
    "for x, y in tf_test_dataset:\n",
    "    X_test.append(x.numpy())\n",
    "    y_test.append(y.numpy())\n",
    "\n",
    "X_test = np.concatenate(X_test, axis=0)\n",
    "y_test = np.concatenate(y_test, axis=0)\n",
    "\n",
    "# Predict\n",
    "y_pred_probs = model.predict(X_test, batch_size=8)\n",
    "y_pred = np.argmax(y_pred_probs, axis=1)\n",
    "\n",
    "# Classification Report & Confusion Matrix\n",
    "print(\"\\nClassification Report:\")\n",
    "print(classification_report(y_test, y_pred, digits=4))\n",
    "\n",
    "print(\"Confusion Matrix:\")\n",
    "print(confusion_matrix(y_test, y_pred))"
   ]
  },
  {
   "cell_type": "code",
   "execution_count": 19,
   "metadata": {},
   "outputs": [
    {
     "name": "stdout",
     "output_type": "stream",
     "text": [
      "1/1 [==============================] - 0s 28ms/step\n",
      "1/1 [==============================] - 0s 24ms/step\n",
      "1/1 [==============================] - 0s 23ms/step\n",
      "1/1 [==============================] - 0s 30ms/step\n",
      "1/1 [==============================] - 0s 23ms/step\n",
      "1/1 [==============================] - 0s 29ms/step\n",
      "1/1 [==============================] - 0s 26ms/step\n",
      "1/1 [==============================] - 0s 26ms/step\n",
      "1/1 [==============================] - 0s 29ms/step\n",
      "1/1 [==============================] - 0s 25ms/step\n",
      "1/1 [==============================] - 0s 30ms/step\n",
      "1/1 [==============================] - 0s 29ms/step\n",
      "1/1 [==============================] - 0s 27ms/step\n",
      "1/1 [==============================] - 0s 34ms/step\n",
      "1/1 [==============================] - 0s 29ms/step\n",
      "1/1 [==============================] - 0s 31ms/step\n",
      "1/1 [==============================] - 0s 30ms/step\n",
      "1/1 [==============================] - 0s 29ms/step\n",
      "1/1 [==============================] - 0s 26ms/step\n",
      "1/1 [==============================] - 0s 29ms/step\n",
      "1/1 [==============================] - 0s 25ms/step\n",
      "1/1 [==============================] - 0s 28ms/step\n",
      "1/1 [==============================] - 0s 28ms/step\n",
      "1/1 [==============================] - 0s 24ms/step\n"
     ]
    },
    {
     "data": {
      "image/png": "[encoded data removed]",
      "text/plain": [
       "<Figure size 1200x800 with 2 Axes>"
      ]
     },
     "metadata": {},
     "output_type": "display_data"
    }
   ],
   "source": [
    "import seaborn as sns\n",
    "import matplotlib.pyplot as plt\n",
    "from sklearn.metrics import confusion_matrix\n",
    "import numpy as np\n",
    "\n",
    "# Ambil semua label asli & prediksi\n",
    "y_true = np.concatenate([y.numpy() for _, y in tf_test_dataset], axis=0)\n",
    "y_pred = np.concatenate([np.argmax(model.predict(x), axis=1) for x, _ in tf_test_dataset], axis=0)\n",
    "\n",
    "# Buat confusion matrix\n",
    "cm = confusion_matrix(y_true, y_pred)\n",
    "\n",
    "# Visualisasi pakai heatmap dengan angka\n",
    "plt.figure(figsize=(12, 8))\n",
    "sns.heatmap(cm, annot=True, fmt='d', cmap=\"Blues\", linewidths=0.5, linecolor='gray')\n",
    "plt.xlabel(\"Predicted Label\")\n",
    "plt.ylabel(\"True Label\")\n",
    "plt.title(\"Confusion Matrix\")\n",
    "plt.show()\n"
   ]
  },
  {
   "cell_type": "code",
   "execution_count": 18,
   "metadata": {},
   "outputs": [
    {
     "name": "stdout",
     "output_type": "stream",
     "text": [
      "Num GPUs Available:  1\n"
     ]
    }
   ],
   "source": [
    "import tensorflow as tf\n",
    "print(\"Num GPUs Available: \", len(tf.config.list_physical_devices('GPU')))"
   ]
  }
 ],
 "metadata": {
  "kernelspec": {
   "display_name": "tf",
   "language": "python",
   "name": "python3"
  },
  "language_info": {
   "codemirror_mode": {
    "name": "ipython",
    "version": 3
   },
   "file_extension": ".py",
   "mimetype": "text/x-python",
   "name": "python",
   "nbconvert_exporter": "python",
   "pygments_lexer": "ipython3",
   "version": "3.9.21"
  }
 },
 "nbformat": 4,
 "nbformat_minor": 2
}
