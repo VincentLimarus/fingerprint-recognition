{
 "cells": [
  {
   "cell_type": "markdown",
   "metadata": {},
   "source": [
    "APPROACH THAT WE USED IN THIS RESEARCH"
   ]
  },
  {
   "cell_type": "code",
   "execution_count": 1,
   "metadata": {},
   "outputs": [],
   "source": [
    "import os\n",
    "import cv2\n",
    "import numpy as np\n",
    "import random\n",
    "from tqdm import tqdm\n",
    "from sklearn.model_selection import train_test_split\n",
    "import shutil\n",
    "import tensorflow as tf\n",
    "from tensorflow.keras.preprocessing.image import ImageDataGenerator\n",
    "from tensorflow.keras.applications import VGG16\n",
    "from tensorflow.keras.models import Model\n",
    "from tensorflow.keras.layers import Dense, GlobalAveragePooling2D\n",
    "from tensorflow.keras.optimizers import Adam\n",
    "from tensorflow.keras.callbacks import ReduceLROnPlateau\n",
    "from tensorflow.keras.layers import Dropout\n",
    "from tensorflow.keras.callbacks import EarlyStopping, ModelCheckpoint\n",
    "from tensorflow.keras import regularizers\n",
    "from tensorflow.keras.models import load_model\n",
    "import seaborn as sns\n",
    "import matplotlib.pyplot as plt\n",
    "from sklearn.metrics import confusion_matrix\n",
    "from sklearn.metrics import classification_report, confusion_matrix\n",
    "from sklearn.metrics import roc_auc_score\n",
    "from sklearn.preprocessing import label_binarize\n",
    "\n"
   ]
  },
  {
   "cell_type": "code",
   "execution_count": null,
   "metadata": {},
   "outputs": [
    {
     "name": "stdout",
     "output_type": "stream",
     "text": [
      "Found 739 images belonging to 16 classes.\n"
     ]
    },
    {
     "name": "stdout",
     "output_type": "stream",
     "text": [
      "Found 189 images belonging to 16 classes.\n"
     ]
    }
   ],
   "source": [
    "train_dir = \"../data/final/train\"\n",
    "test_dir  = \"../data/final/test\"\n",
    "\n",
    "img_size = (224, 224)\n",
    "batch_size = 16\n",
    "\n",
    "image_files = [f for f in os.listdir(train_dir) if f.endswith(\".tif\")]\n",
    "\n",
    "# Extract class labels from filenames (e.g., \"001_1.tif\" → class 001 → index 0)\n",
    "class_labels = sorted(set(f.split(\"_\")[0] for f in image_files))  # Unique classes\n",
    "class_to_index = {label: i for i, label in enumerate(class_labels)}\n",
    "\n",
    "train_datagen = ImageDataGenerator(rescale=1./255)\n",
    "test_datagen = ImageDataGenerator(rescale=1./255)\n",
    "\n",
    "train_gen = train_datagen.flow_from_directory(\n",
    "    train_dir, target_size=img_size, batch_size=batch_size, class_mode='sparse', color_mode='rgb'\n",
    ")\n",
    "\n",
    "test_gen = test_datagen.flow_from_directory(\n",
    "    test_dir,\n",
    "    target_size=img_size,\n",
    "    batch_size=batch_size,\n",
    "    class_mode='sparse',\n",
    "    color_mode='rgb',\n",
    "    shuffle=False  # 🔒 ensure consistent ordering\n",
    ")"
   ]
  },
  {
   "cell_type": "code",
   "execution_count": 3,
   "metadata": {},
   "outputs": [
    {
     "name": "stdout",
     "output_type": "stream",
     "text": [
      "Epoch 1/60\n",
      "47/47 [==============================] - ETA: 0s - loss: 3.2556 - accuracy: 0.1245\n",
      "Epoch 1: val_accuracy improved from -inf to 0.29101, saving model to best_fingerprint_model.h5\n",
      "47/47 [==============================] - 42s 509ms/step - loss: 3.2556 - accuracy: 0.1245 - val_loss: 2.9168 - val_accuracy: 0.2910 - lr: 1.0000e-05\n",
      "Epoch 2/60\n",
      "47/47 [==============================] - ETA: 0s - loss: 2.6601 - accuracy: 0.2720\n",
      "Epoch 2: val_accuracy improved from 0.29101 to 0.46561, saving model to best_fingerprint_model.h5\n",
      "47/47 [==============================] - 16s 343ms/step - loss: 2.6601 - accuracy: 0.2720 - val_loss: 2.3254 - val_accuracy: 0.4656 - lr: 1.0000e-05\n",
      "Epoch 3/60\n",
      "47/47 [==============================] - ETA: 0s - loss: 2.3062 - accuracy: 0.3640\n",
      "Epoch 3: val_accuracy improved from 0.46561 to 0.53439, saving model to best_fingerprint_model.h5\n",
      "47/47 [==============================] - 16s 342ms/step - loss: 2.3062 - accuracy: 0.3640 - val_loss: 2.0763 - val_accuracy: 0.5344 - lr: 1.0000e-05\n",
      "Epoch 4/60\n",
      "47/47 [==============================] - ETA: 0s - loss: 2.0297 - accuracy: 0.4520\n",
      "Epoch 4: val_accuracy improved from 0.53439 to 0.54497, saving model to best_fingerprint_model.h5\n",
      "47/47 [==============================] - 17s 347ms/step - loss: 2.0297 - accuracy: 0.4520 - val_loss: 1.7925 - val_accuracy: 0.5450 - lr: 1.0000e-05\n",
      "Epoch 5/60\n",
      "47/47 [==============================] - ETA: 0s - loss: 1.7571 - accuracy: 0.5751\n",
      "Epoch 5: val_accuracy improved from 0.54497 to 0.66138, saving model to best_fingerprint_model.h5\n",
      "47/47 [==============================] - 16s 346ms/step - loss: 1.7571 - accuracy: 0.5751 - val_loss: 1.5613 - val_accuracy: 0.6614 - lr: 1.0000e-05\n",
      "Epoch 6/60\n",
      "47/47 [==============================] - ETA: 0s - loss: 1.5112 - accuracy: 0.6522\n",
      "Epoch 6: val_accuracy improved from 0.66138 to 0.68783, saving model to best_fingerprint_model.h5\n",
      "47/47 [==============================] - 16s 342ms/step - loss: 1.5112 - accuracy: 0.6522 - val_loss: 1.4257 - val_accuracy: 0.6878 - lr: 1.0000e-05\n",
      "Epoch 7/60\n",
      "47/47 [==============================] - ETA: 0s - loss: 1.2835 - accuracy: 0.7334\n",
      "Epoch 7: val_accuracy improved from 0.68783 to 0.80952, saving model to best_fingerprint_model.h5\n",
      "47/47 [==============================] - 17s 347ms/step - loss: 1.2835 - accuracy: 0.7334 - val_loss: 1.1987 - val_accuracy: 0.8095 - lr: 1.0000e-05\n",
      "Epoch 8/60\n",
      "47/47 [==============================] - ETA: 0s - loss: 1.2166 - accuracy: 0.7497\n",
      "Epoch 8: val_accuracy did not improve from 0.80952\n",
      "47/47 [==============================] - 16s 341ms/step - loss: 1.2166 - accuracy: 0.7497 - val_loss: 1.1279 - val_accuracy: 0.7778 - lr: 1.0000e-05\n",
      "Epoch 9/60\n",
      "47/47 [==============================] - ETA: 0s - loss: 1.0755 - accuracy: 0.7997\n",
      "Epoch 9: val_accuracy did not improve from 0.80952\n",
      "47/47 [==============================] - 16s 342ms/step - loss: 1.0755 - accuracy: 0.7997 - val_loss: 1.1273 - val_accuracy: 0.7937 - lr: 1.0000e-05\n",
      "Epoch 10/60\n",
      "47/47 [==============================] - ETA: 0s - loss: 0.9326 - accuracy: 0.8647\n",
      "Epoch 10: val_accuracy improved from 0.80952 to 0.84656, saving model to best_fingerprint_model.h5\n",
      "47/47 [==============================] - 17s 350ms/step - loss: 0.9326 - accuracy: 0.8647 - val_loss: 0.9611 - val_accuracy: 0.8466 - lr: 1.0000e-05\n",
      "Epoch 11/60\n",
      "47/47 [==============================] - ETA: 0s - loss: 0.9468 - accuracy: 0.8525\n",
      "Epoch 11: val_accuracy did not improve from 0.84656\n",
      "47/47 [==============================] - 16s 350ms/step - loss: 0.9468 - accuracy: 0.8525 - val_loss: 0.9330 - val_accuracy: 0.8413 - lr: 1.0000e-05\n",
      "Epoch 12/60\n",
      "47/47 [==============================] - ETA: 0s - loss: 0.8096 - accuracy: 0.9053\n",
      "Epoch 12: val_accuracy improved from 0.84656 to 0.86772, saving model to best_fingerprint_model.h5\n",
      "47/47 [==============================] - 17s 348ms/step - loss: 0.8096 - accuracy: 0.9053 - val_loss: 0.9087 - val_accuracy: 0.8677 - lr: 1.0000e-05\n",
      "Epoch 13/60\n",
      "47/47 [==============================] - ETA: 0s - loss: 0.7915 - accuracy: 0.9134\n",
      "Epoch 13: val_accuracy improved from 0.86772 to 0.89947, saving model to best_fingerprint_model.h5\n",
      "47/47 [==============================] - 17s 348ms/step - loss: 0.7915 - accuracy: 0.9134 - val_loss: 0.8483 - val_accuracy: 0.8995 - lr: 1.0000e-05\n",
      "Epoch 14/60\n",
      "47/47 [==============================] - ETA: 0s - loss: 0.7570 - accuracy: 0.9175\n",
      "Epoch 14: val_accuracy did not improve from 0.89947\n",
      "47/47 [==============================] - 17s 346ms/step - loss: 0.7570 - accuracy: 0.9175 - val_loss: 0.8699 - val_accuracy: 0.8889 - lr: 1.0000e-05\n",
      "Epoch 15/60\n",
      "47/47 [==============================] - ETA: 0s - loss: 0.7807 - accuracy: 0.9161\n",
      "Epoch 15: val_accuracy did not improve from 0.89947\n",
      "47/47 [==============================] - 16s 341ms/step - loss: 0.7807 - accuracy: 0.9161 - val_loss: 0.9763 - val_accuracy: 0.8201 - lr: 1.0000e-05\n",
      "Epoch 16/60\n",
      "47/47 [==============================] - ETA: 0s - loss: 0.7417 - accuracy: 0.9188\n",
      "Epoch 16: val_accuracy did not improve from 0.89947\n",
      "47/47 [==============================] - 16s 344ms/step - loss: 0.7417 - accuracy: 0.9188 - val_loss: 0.8877 - val_accuracy: 0.8624 - lr: 1.0000e-05\n",
      "Epoch 17/60\n",
      "47/47 [==============================] - ETA: 0s - loss: 0.6514 - accuracy: 0.9594\n",
      "Epoch 17: val_accuracy improved from 0.89947 to 0.91534, saving model to best_fingerprint_model.h5\n",
      "47/47 [==============================] - 16s 345ms/step - loss: 0.6514 - accuracy: 0.9594 - val_loss: 0.7570 - val_accuracy: 0.9153 - lr: 5.0000e-06\n",
      "Epoch 18/60\n",
      "47/47 [==============================] - ETA: 0s - loss: 0.6020 - accuracy: 0.9756\n",
      "Epoch 18: val_accuracy improved from 0.91534 to 0.93122, saving model to best_fingerprint_model.h5\n",
      "47/47 [==============================] - 17s 348ms/step - loss: 0.6020 - accuracy: 0.9756 - val_loss: 0.7278 - val_accuracy: 0.9312 - lr: 5.0000e-06\n",
      "Epoch 19/60\n",
      "47/47 [==============================] - ETA: 0s - loss: 0.5904 - accuracy: 0.9811\n",
      "Epoch 19: val_accuracy improved from 0.93122 to 0.94709, saving model to best_fingerprint_model.h5\n",
      "47/47 [==============================] - 17s 348ms/step - loss: 0.5904 - accuracy: 0.9811 - val_loss: 0.7166 - val_accuracy: 0.9471 - lr: 5.0000e-06\n",
      "Epoch 20/60\n",
      "47/47 [==============================] - ETA: 0s - loss: 0.5824 - accuracy: 0.9797\n",
      "Epoch 20: val_accuracy did not improve from 0.94709\n",
      "47/47 [==============================] - 16s 340ms/step - loss: 0.5824 - accuracy: 0.9797 - val_loss: 0.7064 - val_accuracy: 0.9365 - lr: 5.0000e-06\n",
      "Epoch 21/60\n",
      "47/47 [==============================] - ETA: 0s - loss: 0.6463 - accuracy: 0.9526\n",
      "Epoch 21: val_accuracy did not improve from 0.94709\n",
      "47/47 [==============================] - 16s 337ms/step - loss: 0.6463 - accuracy: 0.9526 - val_loss: 0.7649 - val_accuracy: 0.9101 - lr: 5.0000e-06\n",
      "Epoch 22/60\n",
      "47/47 [==============================] - ETA: 0s - loss: 0.6133 - accuracy: 0.9729\n",
      "Epoch 22: val_accuracy did not improve from 0.94709\n",
      "47/47 [==============================] - 16s 341ms/step - loss: 0.6133 - accuracy: 0.9729 - val_loss: 0.8299 - val_accuracy: 0.8995 - lr: 5.0000e-06\n",
      "Epoch 23/60\n",
      "47/47 [==============================] - ETA: 0s - loss: 0.5753 - accuracy: 0.9851\n",
      "Epoch 23: val_accuracy did not improve from 0.94709\n",
      "47/47 [==============================] - 16s 340ms/step - loss: 0.5753 - accuracy: 0.9851 - val_loss: 0.7580 - val_accuracy: 0.9206 - lr: 5.0000e-06\n",
      "Epoch 24/60\n",
      "47/47 [==============================] - ETA: 0s - loss: 0.5518 - accuracy: 0.9919\n",
      "Epoch 24: val_accuracy did not improve from 0.94709\n",
      "47/47 [==============================] - 16s 342ms/step - loss: 0.5518 - accuracy: 0.9919 - val_loss: 0.6966 - val_accuracy: 0.9471 - lr: 2.5000e-06\n",
      "Epoch 25/60\n",
      "47/47 [==============================] - ETA: 0s - loss: 0.5547 - accuracy: 0.9865\n",
      "Epoch 25: val_accuracy did not improve from 0.94709\n",
      "47/47 [==============================] - 16s 339ms/step - loss: 0.5547 - accuracy: 0.9865 - val_loss: 0.7153 - val_accuracy: 0.9365 - lr: 2.5000e-06\n",
      "Epoch 26/60\n",
      "47/47 [==============================] - ETA: 0s - loss: 0.5532 - accuracy: 0.9892\n",
      "Epoch 26: val_accuracy did not improve from 0.94709\n",
      "47/47 [==============================] - 16s 340ms/step - loss: 0.5532 - accuracy: 0.9892 - val_loss: 0.7001 - val_accuracy: 0.9365 - lr: 2.5000e-06\n",
      "Epoch 27/60\n",
      "47/47 [==============================] - ETA: 0s - loss: 0.5430 - accuracy: 0.9973\n",
      "Epoch 27: val_accuracy did not improve from 0.94709\n",
      "47/47 [==============================] - 16s 341ms/step - loss: 0.5430 - accuracy: 0.9973 - val_loss: 0.6897 - val_accuracy: 0.9418 - lr: 2.5000e-06\n",
      "Epoch 28/60\n",
      "47/47 [==============================] - ETA: 0s - loss: 0.5365 - accuracy: 0.9959\n",
      "Epoch 28: val_accuracy did not improve from 0.94709\n",
      "47/47 [==============================] - 16s 344ms/step - loss: 0.5365 - accuracy: 0.9959 - val_loss: 0.6922 - val_accuracy: 0.9418 - lr: 2.5000e-06\n",
      "Epoch 29/60\n",
      "47/47 [==============================] - ETA: 0s - loss: 0.5397 - accuracy: 0.9932Restoring model weights from the end of the best epoch: 19.\n",
      "\n",
      "Epoch 29: val_accuracy did not improve from 0.94709\n",
      "47/47 [==============================] - 16s 342ms/step - loss: 0.5397 - accuracy: 0.9932 - val_loss: 0.7182 - val_accuracy: 0.9312 - lr: 2.5000e-06\n",
      "Epoch 29: early stopping\n",
      "\n",
      "✅ Model trained and saved as best_fingerprint_model.h5\n"
     ]
    }
   ],
   "source": [
    "base_model = VGG16(weights='imagenet', include_top=False, input_shape=(224, 224, 3))\n",
    "for layer in base_model.layers[:-16]:\n",
    "    layer.trainable = False\n",
    "\n",
    "x = base_model.output\n",
    "x = GlobalAveragePooling2D()(x)\n",
    "x = Dense(512, activation='relu', kernel_regularizer=regularizers.l2(0.001))(x)\n",
    "x = Dropout(0.3)(x)\n",
    "predictions = Dense(train_gen.num_classes, activation='softmax', \n",
    "                    kernel_regularizer=regularizers.l2(0.001))(x)\n",
    "\n",
    "model = Model(inputs=base_model.input, outputs=predictions)\n",
    "model.compile(optimizer=Adam(1e-5), loss='sparse_categorical_crossentropy', metrics=['accuracy'])\n",
    "\n",
    "lr_scheduler = ReduceLROnPlateau(monitor='val_loss', patience=3, factor=0.5, min_lr=1e-7)\n",
    "\n",
    "\n",
    "# EarlyStopping to prevent overfitting\n",
    "early_stopping = EarlyStopping(\n",
    "    monitor='val_accuracy',\n",
    "    patience=10,                 \n",
    "    restore_best_weights=True,\n",
    "    verbose=1\n",
    ")\n",
    "\n",
    "# ModelCheckpoint to save the best model\n",
    "checkpoint = ModelCheckpoint(\n",
    "    filepath='best_fingerprint_model.h5',\n",
    "    monitor='val_accuracy',\n",
    "    save_best_only=True,\n",
    "    save_weights_only=False,\n",
    "    verbose=1\n",
    ")\n",
    "\n",
    "model.fit(\n",
    "    train_gen,\n",
    "    validation_data=test_gen,\n",
    "    epochs=60,\n",
    "    callbacks=[lr_scheduler, early_stopping, checkpoint]\n",
    ")\n",
    "\n",
    "# Save model\n",
    "model.save(\"best_fingerprint_model.h5\")\n",
    "print(\"\\n✅ Model trained and saved as best_fingerprint_model.h5\")"
   ]
  },
  {
   "cell_type": "code",
   "execution_count": 4,
   "metadata": {},
   "outputs": [
    {
     "name": "stdout",
     "output_type": "stream",
     "text": [
      "{'001': 0, '002': 1, '003': 2, '004': 3, '005': 4, '006': 5, '007': 6, '008': 7, '009': 8, '010': 9, '011': 10, '012': 11, '013': 12, '014': 13, '015': 14, '016': 15}\n"
     ]
    }
   ],
   "source": [
    "print(test_gen.class_indices)"
   ]
  },
  {
   "cell_type": "code",
   "execution_count": 5,
   "metadata": {},
   "outputs": [
    {
     "name": "stdout",
     "output_type": "stream",
     "text": [
      "12/12 [==============================] - 2s 126ms/step - loss: 0.7166 - accuracy: 0.9471\n",
      "\n",
      "📊 Test Loss: 0.7166\n",
      "✅ Test Accuracy: 0.9471\n"
     ]
    }
   ],
   "source": [
    "# Load the best model from checkpoint before evaluation\n",
    "model = load_model(\"best_fingerprint_model.h5\")\n",
    "\n",
    "# Evaluate using the best model\n",
    "loss, accuracy = model.evaluate(test_gen)\n",
    "print(f\"\\n📊 Test Loss: {loss:.4f}\")\n",
    "print(f\"✅ Test Accuracy: {accuracy:.4f}\")"
   ]
  },
  {
   "cell_type": "code",
   "execution_count": 6,
   "metadata": {},
   "outputs": [
    {
     "name": "stdout",
     "output_type": "stream",
     "text": [
      "12/12 [==============================] - 1s 123ms/step\n",
      "\n",
      "Classification Report:\n",
      "              precision    recall  f1-score   support\n",
      "\n",
      "         0.0     0.9091    1.0000    0.9524        10\n",
      "         1.0     0.9091    1.0000    0.9524        10\n",
      "         2.0     1.0000    1.0000    1.0000        10\n",
      "         3.0     0.9091    1.0000    0.9524        10\n",
      "         4.0     0.8000    0.8000    0.8000        10\n",
      "         5.0     0.9091    1.0000    0.9524        10\n",
      "         6.0     1.0000    1.0000    1.0000        10\n",
      "         7.0     1.0000    0.6000    0.7500         5\n",
      "         8.0     0.8750    0.7000    0.7778        10\n",
      "         9.0     0.9412    1.0000    0.9697        16\n",
      "        10.0     0.9375    0.9375    0.9375        16\n",
      "        11.0     1.0000    0.9375    0.9677        16\n",
      "        12.0     0.9412    1.0000    0.9697        16\n",
      "        13.0     1.0000    0.9375    0.9677        16\n",
      "        14.0     1.0000    1.0000    1.0000         8\n",
      "        15.0     1.0000    1.0000    1.0000        16\n",
      "\n",
      "    accuracy                         0.9471       189\n",
      "   macro avg     0.9457    0.9320    0.9344       189\n",
      "weighted avg     0.9483    0.9471    0.9451       189\n",
      "\n",
      "\n",
      "Confusion Matrix:\n",
      "[[10  0  0  0  0  0  0  0  0  0  0  0  0  0  0  0]\n",
      " [ 0 10  0  0  0  0  0  0  0  0  0  0  0  0  0  0]\n",
      " [ 0  0 10  0  0  0  0  0  0  0  0  0  0  0  0  0]\n",
      " [ 0  0  0 10  0  0  0  0  0  0  0  0  0  0  0  0]\n",
      " [ 0  1  0  0  8  0  0  0  1  0  0  0  0  0  0  0]\n",
      " [ 0  0  0  0  0 10  0  0  0  0  0  0  0  0  0  0]\n",
      " [ 0  0  0  0  0  0 10  0  0  0  0  0  0  0  0  0]\n",
      " [ 0  0  0  1  0  1  0  3  0  0  0  0  0  0  0  0]\n",
      " [ 1  0  0  0  2  0  0  0  7  0  0  0  0  0  0  0]\n",
      " [ 0  0  0  0  0  0  0  0  0 16  0  0  0  0  0  0]\n",
      " [ 0  0  0  0  0  0  0  0  0  1 15  0  0  0  0  0]\n",
      " [ 0  0  0  0  0  0  0  0  0  0  0 15  1  0  0  0]\n",
      " [ 0  0  0  0  0  0  0  0  0  0  0  0 16  0  0  0]\n",
      " [ 0  0  0  0  0  0  0  0  0  0  1  0  0 15  0  0]\n",
      " [ 0  0  0  0  0  0  0  0  0  0  0  0  0  0  8  0]\n",
      " [ 0  0  0  0  0  0  0  0  0  0  0  0  0  0  0 16]]\n"
     ]
    }
   ],
   "source": [
    "X_test = []\n",
    "y_test = []\n",
    "\n",
    "# Calculate number of steps needed to cover all test samples\n",
    "steps = int(np.ceil(test_gen.samples / test_gen.batch_size))\n",
    "\n",
    "# Collect only the required number of batches\n",
    "for i in range(steps):\n",
    "    x, y = next(test_gen)\n",
    "    X_test.append(x)\n",
    "    y_test.append(y)\n",
    "\n",
    "X_test = np.concatenate(X_test, axis=0)\n",
    "y_test = np.concatenate(y_test, axis=0)\n",
    "\n",
    "# Predict\n",
    "y_pred_probs = model.predict(X_test, batch_size=16)\n",
    "y_pred = np.argmax(y_pred_probs, axis=1)\n",
    "\n",
    "# Classification Report & Confusion Matrix\n",
    "print(\"\\nClassification Report:\")\n",
    "print(classification_report(y_test, y_pred, digits=4))\n",
    "\n",
    "print(\"\\nConfusion Matrix:\")\n",
    "print(confusion_matrix(y_test, y_pred))"
   ]
  },
  {
   "cell_type": "code",
   "execution_count": 7,
   "metadata": {},
   "outputs": [
    {
     "name": "stdout",
     "output_type": "stream",
     "text": [
      "1/1 [==============================] - 0s 23ms/step\n",
      "1/1 [==============================] - 0s 21ms/step\n",
      "1/1 [==============================] - 0s 24ms/step\n",
      "1/1 [==============================] - 0s 22ms/step\n",
      "1/1 [==============================] - 0s 21ms/step\n",
      "1/1 [==============================] - 0s 25ms/step\n",
      "1/1 [==============================] - 0s 21ms/step\n",
      "1/1 [==============================] - 0s 21ms/step\n",
      "1/1 [==============================] - 0s 21ms/step\n",
      "1/1 [==============================] - 0s 21ms/step\n",
      "1/1 [==============================] - 0s 19ms/step\n",
      "1/1 [==============================] - 0s 19ms/step\n"
     ]
    },
    {
     "data": {
      "image/png": "[encoded data removed]",
      "text/plain": [
       "<Figure size 1200x800 with 2 Axes>"
      ]
     },
     "metadata": {},
     "output_type": "display_data"
    }
   ],
   "source": [
    "# Get true labels and predictions\n",
    "y_true = []\n",
    "y_pred = []\n",
    "\n",
    "# Reset the generator before iterating\n",
    "test_gen.reset()\n",
    "steps = int(np.ceil(test_gen.samples / test_gen.batch_size))\n",
    "\n",
    "for _ in range(steps):\n",
    "    x_batch, y_batch = next(test_gen)\n",
    "\n",
    "    # Handle one-hot encoded or integer labels\n",
    "    if y_batch.ndim > 1:\n",
    "        y_true.extend(np.argmax(y_batch, axis=1))\n",
    "    else:\n",
    "        y_true.extend(y_batch)\n",
    "\n",
    "    preds = model.predict(x_batch)\n",
    "    y_pred.extend(np.argmax(preds, axis=1))\n",
    "\n",
    "y_true = np.array(y_true)\n",
    "y_pred = np.array(y_pred)\n",
    "\n",
    "# Create confusion matrix\n",
    "cm = confusion_matrix(y_true, y_pred)\n",
    "\n",
    "# Plot heatmap\n",
    "plt.figure(figsize=(12, 8))\n",
    "sns.heatmap(cm, annot=True, fmt='d', cmap=\"Blues\", linewidths=0.5, linecolor='gray')\n",
    "plt.xlabel(\"Predicted Label\")\n",
    "plt.ylabel(\"True Label\")\n",
    "plt.title(\"Confusion Matrix\")\n",
    "plt.show()"
   ]
  },
  {
   "cell_type": "code",
   "execution_count": 8,
   "metadata": {},
   "outputs": [
    {
     "name": "stdout",
     "output_type": "stream",
     "text": [
      "\n",
      "Macro Avg - Precision: 0.9457, Recall: 0.9320, F1 Score: 0.9344\n",
      "Weighted Avg - Precision: 0.9483, Recall: 0.9471, F1 Score: 0.9451\n"
     ]
    }
   ],
   "source": [
    "report = classification_report(y_test, y_pred, output_dict=True)\n",
    "\n",
    "# Macro averages (treats all classes equally)\n",
    "precision_macro = report['macro avg']['precision']\n",
    "recall_macro = report['macro avg']['recall']\n",
    "f1_macro = report['macro avg']['f1-score']\n",
    "\n",
    "# Weighted averages (accounts for class imbalance)\n",
    "precision_weighted = report['weighted avg']['precision']\n",
    "recall_weighted = report['weighted avg']['recall']\n",
    "f1_weighted = report['weighted avg']['f1-score']\n",
    "\n",
    "print(f\"\\nMacro Avg - Precision: {precision_macro:.4f}, Recall: {recall_macro:.4f}, F1 Score: {f1_macro:.4f}\")\n",
    "print(f\"Weighted Avg - Precision: {precision_weighted:.4f}, Recall: {recall_weighted:.4f}, F1 Score: {f1_weighted:.4f}\")"
   ]
  },
  {
   "cell_type": "code",
   "execution_count": 11,
   "metadata": {},
   "outputs": [
    {
     "name": "stdout",
     "output_type": "stream",
     "text": [
      "ROC AUC Score (macro): 0.9975\n"
     ]
    }
   ],
   "source": [
    "# One-hot encode true labels\n",
    "y_test_onehot = label_binarize(y_test, classes=np.arange(model.output_shape[-1]))\n",
    "\n",
    "# y_pred_probs: already predicted earlier like this\n",
    "# y_pred_probs = model.predict(X_test)\n",
    "\n",
    "# Multi-class ROC AUC using 'macro' average\n",
    "roc_auc = roc_auc_score(y_test_onehot, y_pred_probs, average='macro', multi_class='ovr')\n",
    "\n",
    "print(f\"ROC AUC Score (macro): {roc_auc:.4f}\")"
   ]
  }
 ],
 "metadata": {
  "kernelspec": {
   "display_name": "tf",
   "language": "python",
   "name": "python3"
  },
  "language_info": {
   "codemirror_mode": {
    "name": "ipython",
    "version": 3
   },
   "file_extension": ".py",
   "mimetype": "text/x-python",
   "name": "python",
   "nbconvert_exporter": "python",
   "pygments_lexer": "ipython3",
   "version": "3.9.21"
  }
 },
 "nbformat": 4,
 "nbformat_minor": 2
}
