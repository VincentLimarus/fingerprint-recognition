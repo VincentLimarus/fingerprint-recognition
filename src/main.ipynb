{
 "cells": [
  {
   "cell_type": "markdown",
   "metadata": {},
   "source": [
    "APPROACH THAT WE USED IN THIS RESEARCH"
   ]
  },
  {
   "cell_type": "code",
   "execution_count": null,
   "metadata": {},
   "outputs": [],
   "source": [
    "import tensorflow as tf\n",
    "import numpy as np\n",
    "import cv2\n",
    "import os\n",
    "\n",
    "# Paths\n",
    "train_dir = \"../data/final/train\"\n",
    "test_dir = \"../data/final/test\"\n",
    "batch_size = 4\n",
    "img_size = (224, 224)  # Resize images\n",
    "\n",
    "# Get all .tif images\n",
    "image_files = [f for f in os.listdir(train_dir) if f.endswith(\".tif\")]\n",
    "\n",
    "# Extract class labels from filenames (e.g., \"001_1.tif\" → class 001 → index 0)\n",
    "class_labels = sorted(set(f.split(\"_\")[0] for f in image_files))  # Unique classes\n",
    "class_to_index = {label: i for i, label in enumerate(class_labels)}\n",
    "\n",
    "# Function to load and preprocess images\n",
    "def load_image(filename, dir_path, class_to_index):\n",
    "    img_path = os.path.join(dir_path, filename)\n",
    "    img = cv2.imread(img_path, cv2.IMREAD_GRAYSCALE)  # still loading in grayscale\n",
    "    img = cv2.resize(img, img_size)\n",
    "    img = img / 255.0\n",
    "    img = np.expand_dims(img, axis=-1)           # (224, 224, 1)\n",
    "    img = np.repeat(img, 3, axis=-1)             # (224, 224, 3) → RGB from grayscale\n",
    "\n",
    "    class_id = filename.split(\"_\")[0]\n",
    "    label = class_to_index[class_id]\n",
    "\n",
    "    return img, label\n",
    "\n",
    "# Load all images into memory\n",
    "dataset = [load_image(f, train_dir, class_to_index) for f in image_files]\n",
    "\n",
    "# Convert to TensorFlow dataset\n",
    "X, y = zip(*dataset)  # Split images and labels\n",
    "X = np.array(X, dtype=np.float32)  # Convert to NumPy array\n",
    "y = np.array(y, dtype=np.int32)\n",
    "\n",
    "# Create tf.data.Dataset\n",
    "tf_dataset = tf.data.Dataset.from_tensor_slices((X, y))\n",
    "tf_dataset = tf_dataset.batch(batch_size).shuffle(len(y))\n",
    "\n",
    "print(f\"✅ Loaded {len(y)} images into a TensorFlow dataset!\")"
   ]
  },
  {
   "cell_type": "code",
   "execution_count": null,
   "metadata": {},
   "outputs": [],
   "source": [
    "train_files = [f for f in os.listdir(train_dir) if f.endswith(\".tif\")]\n",
    "train_labels = sorted(set(f.split(\"_\")[0] for f in train_files))\n",
    "class_to_index = {label: i for i, label in enumerate(train_labels)}\n",
    "\n",
    "# Load training data\n",
    "train_data = [load_image(f, train_dir, class_to_index) for f in train_files]\n",
    "X_train, y_train = zip(*train_data)\n",
    "X_train = np.array(X_train, dtype=np.float32)\n",
    "y_train = np.array(y_train, dtype=np.int32)\n",
    "\n",
    "# Convert to tf.data.Dataset and batch it\n",
    "tf_dataset = tf.data.Dataset.from_tensor_slices((X_train, y_train))\n",
    "tf_dataset = tf_dataset.shuffle(len(y_train)).batch(batch_size)\n",
    "\n",
    "print(f\"✅ Loaded {len(y_train)} training images into TensorFlow dataset\")"
   ]
  },
  {
   "cell_type": "code",
   "execution_count": null,
   "metadata": {},
   "outputs": [],
   "source": [
    "test_image_files = [f for f in os.listdir(test_dir) if f.endswith(\".tif\")]\n",
    "\n",
    "# Function to load and preprocess test images\n",
    "test_dataset = [load_image(f, test_dir, class_to_index) for f in test_image_files]\n",
    "\n",
    "# Convert to TensorFlow test dataset\n",
    "X_test, y_test = zip(*test_dataset)\n",
    "X_test = np.array(X_test, dtype=np.float32)\n",
    "y_test = np.array(y_test, dtype=np.int32)\n",
    "\n",
    "# Create tf.data.Dataset for testing\n",
    "tf_test_dataset = tf.data.Dataset.from_tensor_slices((X_test, y_test))\n",
    "tf_test_dataset = tf_test_dataset.batch(batch_size)\n",
    "print(f\"✅ Loaded {len(y_test)} training images into TensorFlow dataset\")"
   ]
  },
  {
   "cell_type": "code",
   "execution_count": null,
   "metadata": {},
   "outputs": [],
   "source": [
    "data_augmentation = tf.keras.Sequential([\n",
    "    tf.keras.layers.RandomRotation(0.05),\n",
    "    tf.keras.layers.RandomZoom(0.1),\n",
    "    tf.keras.layers.RandomBrightness(factor=0.1),\n",
    "    tf.keras.layers.RandomContrast(0.1),\n",
    "])\n",
    "\n",
    "def augment(image, label):\n",
    "    return data_augmentation(image), label\n",
    "\n",
    "# Apply augmentation before batching\n",
    "tf_dataset = tf_dataset.map(augment)"
   ]
  },
  {
   "cell_type": "code",
   "execution_count": null,
   "metadata": {},
   "outputs": [],
   "source": [
    "import tensorflow as tf\n",
    "from tensorflow.keras.applications import VGG16\n",
    "from tensorflow.keras.models import Model\n",
    "from tensorflow.keras.layers import Dense, Flatten, Dropout, Input, Conv2D, MaxPooling2D\n",
    "\n",
    "# Number of classes (adjust dynamically)\n",
    "num_classes = 80  # Since your classes range from 001 to 080\n",
    "\n",
    "# Input shape (grayscale images need 3 channels for VGG16)\n",
    "input_shape = (224, 224, 3)\n",
    "\n",
    "# Load VGG16 with pre-trained weights (exclude top layers)\n",
    "base_model = VGG16(weights=\"imagenet\", include_top=False, input_shape=input_shape)\n",
    "\n",
    "# Freeze the base model (VGG16) to retain pre-trained weights\n",
    "base_model.trainable = False  \n",
    "\n",
    "# Add custom layers on top of VGG16\n",
    "# Add simplified custom layers on top of VGG16\n",
    "x = base_model.output\n",
    "x = Flatten()(x)\n",
    "x = Dense(256, activation=\"relu\")(x)\n",
    "x = Dropout(0.3)(x)\n",
    "output = Dense(num_classes, activation=\"softmax\")(x)\n",
    "\n",
    "\n",
    "# Define model\n",
    "model = Model(inputs=base_model.input, outputs=output)\n",
    "\n",
    "# Compile model\n",
    "model.compile(optimizer=\"adam\", loss=\"sparse_categorical_crossentropy\", metrics=[\"accuracy\"])\n",
    "\n",
    "# Print summary\n",
    "model.summary()"
   ]
  },
  {
   "cell_type": "code",
   "execution_count": null,
   "metadata": {},
   "outputs": [],
   "source": [
    "from tensorflow.keras.callbacks import ReduceLROnPlateau\n",
    "for layer in base_model.layers[-16:]:\n",
    "    layer.trainable = True\n",
    "\n",
    "# Re-compile with a smaller learning rate\n",
    "model.compile(\n",
    "    optimizer=tf.keras.optimizers.Adam(1e-5),\n",
    "    loss='sparse_categorical_crossentropy',\n",
    "    metrics=['accuracy']\n",
    ")\n",
    "# Learning rate scheduler\n",
    "lr_scheduler = ReduceLROnPlateau(\n",
    "    monitor='val_loss', factor=0.5, patience=3, min_lr=1e-7, verbose=1\n",
    ")"
   ]
  },
  {
   "cell_type": "code",
   "execution_count": null,
   "metadata": {},
   "outputs": [],
   "source": [
    "model.fit(tf_dataset,\n",
    "          validation_data=tf_test_dataset,\n",
    "          epochs=30,\n",
    "          callbacks=[lr_scheduler])"
   ]
  },
  {
   "cell_type": "code",
   "execution_count": null,
   "metadata": {},
   "outputs": [],
   "source": [
    "model.fit(tf_dataset,\n",
    "          validation_data=tf_test_dataset,\n",
    "          epochs=4,\n",
    "          callbacks=[lr_scheduler])"
   ]
  },
  {
   "cell_type": "code",
   "execution_count": null,
   "metadata": {},
   "outputs": [],
   "source": [
    "model.fit(tf_dataset,\n",
    "          validation_data=tf_test_dataset,\n",
    "          epochs=15,\n",
    "          callbacks=[lr_scheduler])"
   ]
  },
  {
   "cell_type": "code",
   "execution_count": null,
   "metadata": {},
   "outputs": [],
   "source": [
    "model.fit(tf_dataset,\n",
    "          validation_data=tf_test_dataset,\n",
    "          epochs=15,\n",
    "          callbacks=[lr_scheduler])"
   ]
  },
  {
   "cell_type": "code",
   "execution_count": null,
   "metadata": {},
   "outputs": [],
   "source": [
    "test_loss, test_acc = model.evaluate(tf_test_dataset) # 60 epochs -> 0.9301\n",
    "print(f\"Test Accuracy: {test_acc:.4f}\")               # 69 epochs -> 0.9462\n",
    "print(f\"Test Loss: {test_loss:.4f}\")                  # 88 epochs -> 0.9624"
   ]
  },
  {
   "cell_type": "code",
   "execution_count": null,
   "metadata": {},
   "outputs": [],
   "source": [
    "from sklearn.metrics import classification_report, confusion_matrix\n",
    "\n",
    "X_test = []\n",
    "y_test = []\n",
    "\n",
    "for x, y in tf_test_dataset:\n",
    "    X_test.append(x.numpy())\n",
    "    y_test.append(y.numpy())\n",
    "\n",
    "X_test = np.concatenate(X_test, axis=0)\n",
    "y_test = np.concatenate(y_test, axis=0)\n",
    "\n",
    "# Predict\n",
    "y_pred_probs = model.predict(X_test, batch_size=8)\n",
    "y_pred = np.argmax(y_pred_probs, axis=1)\n",
    "\n",
    "# Classification Report & Confusion Matrix\n",
    "print(\"\\nClassification Report:\")\n",
    "print(classification_report(y_test, y_pred, digits=4))\n",
    "\n",
    "print(\"Confusion Matrix:\")\n",
    "print(confusion_matrix(y_test, y_pred))"
   ]
  },
  {
   "cell_type": "code",
   "execution_count": null,
   "metadata": {},
   "outputs": [],
   "source": [
    "import seaborn as sns\n",
    "import matplotlib.pyplot as plt\n",
    "from sklearn.metrics import confusion_matrix\n",
    "import numpy as np\n",
    "\n",
    "# Ambil semua label asli & prediksi\n",
    "y_true = np.concatenate([y.numpy() for _, y in tf_test_dataset], axis=0)\n",
    "y_pred = np.concatenate([np.argmax(model.predict(x), axis=1) for x, _ in tf_test_dataset], axis=0)\n",
    "\n",
    "# Buat confusion matrix\n",
    "cm = confusion_matrix(y_true, y_pred)\n",
    "\n",
    "# Visualisasi pakai heatmap dengan angka\n",
    "plt.figure(figsize=(12, 8))\n",
    "sns.heatmap(cm, annot=True, fmt='d', cmap=\"Blues\", linewidths=0.5, linecolor='gray')\n",
    "plt.xlabel(\"Predicted Label\")\n",
    "plt.ylabel(\"True Label\")\n",
    "plt.title(\"Confusion Matrix\")\n",
    "plt.show()"
   ]
  },
  {
   "cell_type": "code",
   "execution_count": null,
   "metadata": {},
   "outputs": [],
   "source": [
    "import tensorflow as tf\n",
    "print(\"Num GPUs Available: \", len(tf.config.list_physical_devices('GPU')))\n",
    "print(len(base_model.layers))"
   ]
  }
 ],
 "metadata": {
  "kernelspec": {
   "display_name": "tf",
   "language": "python",
   "name": "python3"
  },
  "language_info": {
   "codemirror_mode": {
    "name": "ipython",
    "version": 3
   },
   "file_extension": ".py",
   "mimetype": "text/x-python",
   "name": "python",
   "nbconvert_exporter": "python",
   "pygments_lexer": "ipython3",
   "version": "3.9.21"
  }
 },
 "nbformat": 4,
 "nbformat_minor": 2
}
